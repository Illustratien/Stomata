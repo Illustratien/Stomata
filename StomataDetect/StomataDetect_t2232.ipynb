{
 "cells": [
  {
   "cell_type": "markdown",
   "metadata": {
    "pycharm": {
     "name": "#%% md\n"
    }
   },
   "source": [
    "##### If  you haven't  installed packages , execute following script cell"
   ]
  },
  {
   "cell_type": "code",
   "execution_count": 1,
   "metadata": {
    "pycharm": {
     "name": "#%%\n"
    }
   },
   "outputs": [
    {
     "name": "stdout",
     "output_type": "stream",
     "text": [
      "Collecting ultralyticsNote: you may need to restart the kernel to use updated packages.\n",
      "\n",
      "  Using cached ultralytics-8.1.2-py3-none-any.whl.metadata (40 kB)\n",
      "Collecting matplotlib>=3.3.0 (from ultralytics)\n",
      "  Using cached matplotlib-3.8.2-cp311-cp311-win_amd64.whl.metadata (5.9 kB)\n",
      "Requirement already satisfied: numpy>=1.22.2 in c:\\users\\marse\\.conda\\envs\\myenv\\lib\\site-packages (from ultralytics) (1.26.3)\n",
      "Requirement already satisfied: opencv-python>=4.6.0 in c:\\users\\marse\\.conda\\envs\\myenv\\lib\\site-packages (from ultralytics) (4.9.0.80)\n",
      "Requirement already satisfied: pillow>=7.1.2 in c:\\users\\marse\\.conda\\envs\\myenv\\lib\\site-packages (from ultralytics) (10.2.0)\n",
      "Requirement already satisfied: pyyaml>=5.3.1 in c:\\users\\marse\\.conda\\envs\\myenv\\lib\\site-packages (from ultralytics) (6.0.1)\n",
      "Requirement already satisfied: requests>=2.23.0 in c:\\users\\marse\\.conda\\envs\\myenv\\lib\\site-packages (from ultralytics) (2.31.0)\n",
      "Requirement already satisfied: scipy>=1.4.1 in c:\\users\\marse\\.conda\\envs\\myenv\\lib\\site-packages (from ultralytics) (1.11.4)\n",
      "Requirement already satisfied: torch>=1.8.0 in c:\\users\\marse\\.conda\\envs\\myenv\\lib\\site-packages (from ultralytics) (2.1.2)\n",
      "Collecting torchvision>=0.9.0 (from ultralytics)\n",
      "  Using cached torchvision-0.16.2-cp311-cp311-win_amd64.whl.metadata (6.6 kB)\n",
      "Requirement already satisfied: tqdm>=4.64.0 in c:\\users\\marse\\.conda\\envs\\myenv\\lib\\site-packages (from ultralytics) (4.66.1)\n",
      "Requirement already satisfied: psutil in c:\\users\\marse\\.conda\\envs\\myenv\\lib\\site-packages (from ultralytics) (5.9.0)\n",
      "Requirement already satisfied: py-cpuinfo in c:\\users\\marse\\.conda\\envs\\myenv\\lib\\site-packages (from ultralytics) (9.0.0)\n",
      "Collecting thop>=0.1.1 (from ultralytics)\n",
      "  Using cached thop-0.1.1.post2209072238-py3-none-any.whl (15 kB)\n",
      "Requirement already satisfied: pandas>=1.1.4 in c:\\users\\marse\\.conda\\envs\\myenv\\lib\\site-packages (from ultralytics) (2.1.4)\n",
      "Collecting seaborn>=0.11.0 (from ultralytics)\n",
      "  Using cached seaborn-0.13.1-py3-none-any.whl.metadata (5.4 kB)\n",
      "Requirement already satisfied: contourpy>=1.0.1 in c:\\users\\marse\\.conda\\envs\\myenv\\lib\\site-packages (from matplotlib>=3.3.0->ultralytics) (1.2.0)\n",
      "Requirement already satisfied: cycler>=0.10 in c:\\users\\marse\\.conda\\envs\\myenv\\lib\\site-packages (from matplotlib>=3.3.0->ultralytics) (0.12.1)\n",
      "Requirement already satisfied: fonttools>=4.22.0 in c:\\users\\marse\\.conda\\envs\\myenv\\lib\\site-packages (from matplotlib>=3.3.0->ultralytics) (4.47.2)\n",
      "Requirement already satisfied: kiwisolver>=1.3.1 in c:\\users\\marse\\.conda\\envs\\myenv\\lib\\site-packages (from matplotlib>=3.3.0->ultralytics) (1.4.5)\n",
      "Requirement already satisfied: packaging>=20.0 in c:\\users\\marse\\.conda\\envs\\myenv\\lib\\site-packages (from matplotlib>=3.3.0->ultralytics) (23.1)\n",
      "Requirement already satisfied: pyparsing>=2.3.1 in c:\\users\\marse\\.conda\\envs\\myenv\\lib\\site-packages (from matplotlib>=3.3.0->ultralytics) (3.1.1)\n",
      "Requirement already satisfied: python-dateutil>=2.7 in c:\\users\\marse\\.conda\\envs\\myenv\\lib\\site-packages (from matplotlib>=3.3.0->ultralytics) (2.8.2)\n",
      "Requirement already satisfied: pytz>=2020.1 in c:\\users\\marse\\.conda\\envs\\myenv\\lib\\site-packages (from pandas>=1.1.4->ultralytics) (2023.3.post1)\n",
      "Requirement already satisfied: tzdata>=2022.1 in c:\\users\\marse\\.conda\\envs\\myenv\\lib\\site-packages (from pandas>=1.1.4->ultralytics) (2023.3)\n",
      "Requirement already satisfied: charset-normalizer<4,>=2 in c:\\users\\marse\\.conda\\envs\\myenv\\lib\\site-packages (from requests>=2.23.0->ultralytics) (2.0.4)\n",
      "Requirement already satisfied: idna<4,>=2.5 in c:\\users\\marse\\.conda\\envs\\myenv\\lib\\site-packages (from requests>=2.23.0->ultralytics) (3.4)\n",
      "Requirement already satisfied: urllib3<3,>=1.21.1 in c:\\users\\marse\\.conda\\envs\\myenv\\lib\\site-packages (from requests>=2.23.0->ultralytics) (1.26.18)\n",
      "Requirement already satisfied: certifi>=2017.4.17 in c:\\users\\marse\\.conda\\envs\\myenv\\lib\\site-packages (from requests>=2.23.0->ultralytics) (2023.11.17)\n",
      "Requirement already satisfied: filelock in c:\\users\\marse\\.conda\\envs\\myenv\\lib\\site-packages (from torch>=1.8.0->ultralytics) (3.13.1)\n",
      "Requirement already satisfied: typing-extensions in c:\\users\\marse\\.conda\\envs\\myenv\\lib\\site-packages (from torch>=1.8.0->ultralytics) (4.7.1)\n",
      "Requirement already satisfied: sympy in c:\\users\\marse\\.conda\\envs\\myenv\\lib\\site-packages (from torch>=1.8.0->ultralytics) (1.12)\n",
      "Requirement already satisfied: networkx in c:\\users\\marse\\.conda\\envs\\myenv\\lib\\site-packages (from torch>=1.8.0->ultralytics) (3.2.1)\n",
      "Requirement already satisfied: jinja2 in c:\\users\\marse\\.conda\\envs\\myenv\\lib\\site-packages (from torch>=1.8.0->ultralytics) (3.1.2)\n",
      "Requirement already satisfied: fsspec in c:\\users\\marse\\.conda\\envs\\myenv\\lib\\site-packages (from torch>=1.8.0->ultralytics) (2023.12.2)\n",
      "Requirement already satisfied: colorama in c:\\users\\marse\\.conda\\envs\\myenv\\lib\\site-packages (from tqdm>=4.64.0->ultralytics) (0.4.6)\n",
      "Requirement already satisfied: six>=1.5 in c:\\users\\marse\\.conda\\envs\\myenv\\lib\\site-packages (from python-dateutil>=2.7->matplotlib>=3.3.0->ultralytics) (1.16.0)\n",
      "Requirement already satisfied: MarkupSafe>=2.0 in c:\\users\\marse\\.conda\\envs\\myenv\\lib\\site-packages (from jinja2->torch>=1.8.0->ultralytics) (2.1.3)\n",
      "Requirement already satisfied: mpmath>=0.19 in c:\\users\\marse\\.conda\\envs\\myenv\\lib\\site-packages (from sympy->torch>=1.8.0->ultralytics) (1.3.0)\n",
      "Using cached ultralytics-8.1.2-py3-none-any.whl (699 kB)\n",
      "Using cached matplotlib-3.8.2-cp311-cp311-win_amd64.whl (7.6 MB)\n",
      "Using cached seaborn-0.13.1-py3-none-any.whl (294 kB)\n",
      "Using cached torchvision-0.16.2-cp311-cp311-win_amd64.whl (1.1 MB)\n",
      "Installing collected packages: matplotlib, torchvision, thop, seaborn, ultralytics\n",
      "Successfully installed matplotlib-3.8.2 seaborn-0.13.1 thop-0.1.1.post2209072238 torchvision-0.16.2 ultralytics-8.1.2\n",
      "Requirement already satisfied: torch in c:\\users\\marse\\.conda\\envs\\myenv\\lib\\site-packages (2.1.2)Note: you may need to restart the kernel to use updated packages.\n",
      "\n",
      "Requirement already satisfied: torchvision in c:\\users\\marse\\.conda\\envs\\myenv\\lib\\site-packages (0.16.2)\n",
      "Collecting torchaudio\n",
      "  Downloading torchaudio-2.1.2-cp311-cp311-win_amd64.whl.metadata (6.4 kB)\n",
      "Requirement already satisfied: filelock in c:\\users\\marse\\.conda\\envs\\myenv\\lib\\site-packages (from torch) (3.13.1)\n",
      "Requirement already satisfied: typing-extensions in c:\\users\\marse\\.conda\\envs\\myenv\\lib\\site-packages (from torch) (4.7.1)\n",
      "Requirement already satisfied: sympy in c:\\users\\marse\\.conda\\envs\\myenv\\lib\\site-packages (from torch) (1.12)\n",
      "Requirement already satisfied: networkx in c:\\users\\marse\\.conda\\envs\\myenv\\lib\\site-packages (from torch) (3.2.1)\n",
      "Requirement already satisfied: jinja2 in c:\\users\\marse\\.conda\\envs\\myenv\\lib\\site-packages (from torch) (3.1.2)\n",
      "Requirement already satisfied: fsspec in c:\\users\\marse\\.conda\\envs\\myenv\\lib\\site-packages (from torch) (2023.12.2)\n",
      "Requirement already satisfied: numpy in c:\\users\\marse\\.conda\\envs\\myenv\\lib\\site-packages (from torchvision) (1.26.3)\n",
      "Requirement already satisfied: requests in c:\\users\\marse\\.conda\\envs\\myenv\\lib\\site-packages (from torchvision) (2.31.0)\n",
      "Requirement already satisfied: pillow!=8.3.*,>=5.3.0 in c:\\users\\marse\\.conda\\envs\\myenv\\lib\\site-packages (from torchvision) (10.2.0)\n",
      "Requirement already satisfied: MarkupSafe>=2.0 in c:\\users\\marse\\.conda\\envs\\myenv\\lib\\site-packages (from jinja2->torch) (2.1.3)\n",
      "Requirement already satisfied: charset-normalizer<4,>=2 in c:\\users\\marse\\.conda\\envs\\myenv\\lib\\site-packages (from requests->torchvision) (2.0.4)\n",
      "Requirement already satisfied: idna<4,>=2.5 in c:\\users\\marse\\.conda\\envs\\myenv\\lib\\site-packages (from requests->torchvision) (3.4)\n",
      "Requirement already satisfied: urllib3<3,>=1.21.1 in c:\\users\\marse\\.conda\\envs\\myenv\\lib\\site-packages (from requests->torchvision) (1.26.18)\n",
      "Requirement already satisfied: certifi>=2017.4.17 in c:\\users\\marse\\.conda\\envs\\myenv\\lib\\site-packages (from requests->torchvision) (2023.11.17)\n",
      "Requirement already satisfied: mpmath>=0.19 in c:\\users\\marse\\.conda\\envs\\myenv\\lib\\site-packages (from sympy->torch) (1.3.0)\n",
      "Downloading torchaudio-2.1.2-cp311-cp311-win_amd64.whl (2.3 MB)\n",
      "   ---------------------------------------- 0.0/2.3 MB ? eta -:--:--\n",
      "   ---------------------------------------- 0.0/2.3 MB ? eta -:--:--\n",
      "   - -------------------------------------- 0.1/2.3 MB 787.7 kB/s eta 0:00:03\n",
      "   ----- ---------------------------------- 0.3/2.3 MB 2.5 MB/s eta 0:00:01\n",
      "   ------------ --------------------------- 0.7/2.3 MB 4.5 MB/s eta 0:00:01\n",
      "   ------------------ --------------------- 1.1/2.3 MB 5.2 MB/s eta 0:00:01\n",
      "   --------------------------- ------------ 1.6/2.3 MB 6.0 MB/s eta 0:00:01\n",
      "   ------------------------------------ --- 2.1/2.3 MB 6.8 MB/s eta 0:00:01\n",
      "   ---------------------------------------- 2.3/2.3 MB 6.7 MB/s eta 0:00:00\n",
      "Installing collected packages: torchaudio\n",
      "Successfully installed torchaudio-2.1.2\n",
      "Requirement already satisfied: pandas in c:\\users\\marse\\.conda\\envs\\myenv\\lib\\site-packages (2.1.4)Note: you may need to restart the kernel to use updated packages.\n",
      "\n",
      "Requirement already satisfied: numpy<2,>=1.23.2 in c:\\users\\marse\\.conda\\envs\\myenv\\lib\\site-packages (from pandas) (1.26.3)\n",
      "Requirement already satisfied: python-dateutil>=2.8.2 in c:\\users\\marse\\.conda\\envs\\myenv\\lib\\site-packages (from pandas) (2.8.2)\n",
      "Requirement already satisfied: pytz>=2020.1 in c:\\users\\marse\\.conda\\envs\\myenv\\lib\\site-packages (from pandas) (2023.3.post1)\n",
      "Requirement already satisfied: tzdata>=2022.1 in c:\\users\\marse\\.conda\\envs\\myenv\\lib\\site-packages (from pandas) (2023.3)\n",
      "Requirement already satisfied: six>=1.5 in c:\\users\\marse\\.conda\\envs\\myenv\\lib\\site-packages (from python-dateutil>=2.8.2->pandas) (1.16.0)\n"
     ]
    }
   ],
   "source": [
    "# Install the pytorch and ultralytics  only need to run once\n",
    "%pip install -U ultralytics\n",
    "%pip install torch torchvision torchaudio\n",
    "%pip install pandas"
   ]
  },
  {
   "cell_type": "code",
   "execution_count": 1,
   "metadata": {
    "pycharm": {
     "name": "#%%\n"
    }
   },
   "outputs": [
    {
     "name": "stdout",
     "output_type": "stream",
     "text": [
      "Ultralytics YOLOv8.1.5 🚀 Python-3.10.0 torch-2.1.2 CUDA:0 (Quadro RTX 4000, 8192MiB)\n",
      "Setup complete ✅ (20 CPUs, 63.7 GB RAM, 293.3/475.7 GB disk)\n"
     ]
    }
   ],
   "source": [
    "\n",
    "import ultralytics \n",
    "#import cv2\n",
    "import pandas as pd\n",
    "from distutils.dir_util import copy_tree\n",
    "# Check  GPU  and pytorch works\n",
    "ultralytics.checks()\n",
    "\n",
    "# It should list GPU device ex:  \n",
    "# Ultralytics YOLOv8.1.0 🚀 Python-3.10.13 torch-2.1.0+cu121 CUDA:0 (NVIDIA GeForce RTX 4060 Ti, 7937MiB)\n",
    "# Setup complete ✅ (16 CPUs, 31.1 GB RAM, 358.8/915.3 GB disk)"
   ]
  },
  {
   "cell_type": "code",
   "execution_count": 4,
   "metadata": {
    "pycharm": {
     "name": "#%%\n"
    }
   },
   "outputs": [
    {
     "name": "stdout",
     "output_type": "stream",
     "text": [
      "Giessen\n",
      "\n",
      "image 1/18 C:\\Users\\marse\\seadrive_root\\Tien-Che\\Shared with me\\Constantin\\Stomata_shared\\Dortmund\\Sharing\\Giessen\\Giessen_WW_R1_P5101_G221_P2_3.jpg: 480x640 1 complete, 52 blurry.completes, 1 blurry.incomplete, 17 hairs, 76.2ms\n",
      "image 2/18 C:\\Users\\marse\\seadrive_root\\Tien-Che\\Shared with me\\Constantin\\Stomata_shared\\Dortmund\\Sharing\\Giessen\\Giessen_WW_R1_P5101_G221_P2_7.jpg: 480x640 17 completes, 44 blurry.completes, 5 hairs, 46.9ms\n",
      "image 3/18 C:\\Users\\marse\\seadrive_root\\Tien-Che\\Shared with me\\Constantin\\Stomata_shared\\Dortmund\\Sharing\\Giessen\\Giessen_WW_R1_P5102_G49_P2_4.jpg: 480x640 8 completes, 36 blurry.completes, 57.1ms\n",
      "image 4/18 C:\\Users\\marse\\seadrive_root\\Tien-Che\\Shared with me\\Constantin\\Stomata_shared\\Dortmund\\Sharing\\Giessen\\Giessen_WW_R1_P5102_G49_P2_8.jpg: 480x640 33 completes, 37 blurry.completes, 21 hairs, 286.3ms\n",
      "image 5/18 C:\\Users\\marse\\seadrive_root\\Tien-Che\\Shared with me\\Constantin\\Stomata_shared\\Dortmund\\Sharing\\Giessen\\Giessen_WW_R1_P5103_G61_P4_1.jpg: 480x640 7 completes, 44 blurry.completes, 6 hairs, 15.6ms\n",
      "image 6/18 C:\\Users\\marse\\seadrive_root\\Tien-Che\\Shared with me\\Constantin\\Stomata_shared\\Dortmund\\Sharing\\Giessen\\Giessen_WW_R1_P5103_G61_P4_5.jpg: 480x640 30 completes, 17 blurry.completes, 24 hairs, 0.0ms\n",
      "image 7/18 C:\\Users\\marse\\seadrive_root\\Tien-Che\\Shared with me\\Constantin\\Stomata_shared\\Dortmund\\Sharing\\Giessen\\Giessen_WW_R1_P5104_G26_P1_2.jpg: 480x640 12 completes, 32 blurry.completes, 7 hairs, 0.0ms\n",
      "image 8/18 C:\\Users\\marse\\seadrive_root\\Tien-Che\\Shared with me\\Constantin\\Stomata_shared\\Dortmund\\Sharing\\Giessen\\Giessen_WW_R1_P5104_G26_P1_8.jpg: 480x640 26 completes, 32 blurry.completes, 32 hairs, 15.7ms\n",
      "image 9/18 C:\\Users\\marse\\seadrive_root\\Tien-Che\\Shared with me\\Constantin\\Stomata_shared\\Dortmund\\Sharing\\Giessen\\Giessen_WW_R1_P5105_G80_P2_1.jpg: 480x640 11 completes, 27 blurry.completes, 3 hairs, 34.1ms\n",
      "image 10/18 C:\\Users\\marse\\seadrive_root\\Tien-Che\\Shared with me\\Constantin\\Stomata_shared\\Dortmund\\Sharing\\Giessen\\Giessen_WW_R1_P5105_G80_P2_5.jpg: 480x640 38 completes, 19 blurry.completes, 33 hairs, 124.7ms\n",
      "image 11/18 C:\\Users\\marse\\seadrive_root\\Tien-Che\\Shared with me\\Constantin\\Stomata_shared\\Dortmund\\Sharing\\Giessen\\Giessen_WW_R1_P5106_G213_P1_1.jpg: 480x640 16 completes, 22 blurry.completes, 9 hairs, 158.1ms\n",
      "image 12/18 C:\\Users\\marse\\seadrive_root\\Tien-Che\\Shared with me\\Constantin\\Stomata_shared\\Dortmund\\Sharing\\Giessen\\Giessen_WW_R1_P5106_G213_P1_6.jpg: 480x640 21 completes, 29 blurry.completes, 1 blurry.incomplete, 20 hairs, 14.3ms\n",
      "image 13/18 C:\\Users\\marse\\seadrive_root\\Tien-Che\\Shared with me\\Constantin\\Stomata_shared\\Dortmund\\Sharing\\Giessen\\Giessen_WW_R1_P5107_G105_P5_3.jpg: 480x640 5 completes, 38 blurry.completes, 10 hairs, 21.0ms\n",
      "image 14/18 C:\\Users\\marse\\seadrive_root\\Tien-Che\\Shared with me\\Constantin\\Stomata_shared\\Dortmund\\Sharing\\Giessen\\Giessen_WW_R1_P5107_G105_P5_8.jpg: 480x640 46 completes, 20 blurry.completes, 17 hairs, 33.9ms\n",
      "image 15/18 C:\\Users\\marse\\seadrive_root\\Tien-Che\\Shared with me\\Constantin\\Stomata_shared\\Dortmund\\Sharing\\Giessen\\Giessen_WW_R1_P5108_G166_P3_1.jpg: 480x640 8 completes, 31 blurry.completes, 2 blurry.incompletes, 2 hairs, 22.0ms\n",
      "image 16/18 C:\\Users\\marse\\seadrive_root\\Tien-Che\\Shared with me\\Constantin\\Stomata_shared\\Dortmund\\Sharing\\Giessen\\Giessen_WW_R1_P5108_G166_P3_5.jpg: 480x640 15 completes, 41 blurry.completes, 59 hairs, 105.5ms\n",
      "image 17/18 C:\\Users\\marse\\seadrive_root\\Tien-Che\\Shared with me\\Constantin\\Stomata_shared\\Dortmund\\Sharing\\Giessen\\Giessen_WW_R1_P5109_G88_P5_2.jpg: 480x640 11 completes, 33 blurry.completes, 7 hairs, 37.9ms\n",
      "image 18/18 C:\\Users\\marse\\seadrive_root\\Tien-Che\\Shared with me\\Constantin\\Stomata_shared\\Dortmund\\Sharing\\Giessen\\Giessen_WW_R1_P5109_G88_P5_8.jpg: 480x640 3 completes, 60 blurry.completes, 24 hairs, 24.8ms\n",
      "Speed: 4.5ms preprocess, 59.7ms inference, 2.7ms postprocess per image at shape (1, 3, 480, 640)\n",
      "Results saved to \u001b[1mruns\\detect\\predict4\u001b[0m\n",
      "18 labels saved to runs\\detect\\predict4\\labels\n"
     ]
    }
   ],
   "source": [
    "from ultralytics import YOLO\n",
    "import pandas as pd\n",
    "import os\n",
    "from tkinter.filedialog import askdirectory\n",
    "\n",
    "# Put pretrain model weights in this file\n",
    "model = YOLO('./T22+T32.pt')\n",
    "# Put data in Images folder\n",
    "\n",
    "path = askdirectory(title='Select Folder')\n",
    "print(path.split('/')[-1])\n",
    "results = model.predict( path,save=True,save_crop = False,save_txt = True,save_conf = True)  # predict on an image\n",
    "# You can change the folder name of predcit ex : predict1 , predict2 ....\n",
    "# Type your runs folder :\n",
    "def get_newest_folder(path):\n",
    "  # Get a list of all directories in the specified path\n",
    "  dirs = [d for d in os.listdir(path) if os.path.isdir(os.path.join(path, d))]\n",
    "  # Sort the directories based on creation time\n",
    "  dirs.sort(key=lambda d: os.path.getctime(os.path.join(path, d)), reverse=True)\n",
    "  # Return the newest folder\n",
    "  if dirs:\n",
    "    return dirs[0]\n",
    "  else:\n",
    "    return None\n",
    "\n",
    "# Example usage\n",
    "path_to_search = \"./runs/detect/\"\n",
    "newest_folder = get_newest_folder(path_to_search)\n",
    "\n",
    "labels = [os.path.join(path_to_search+newest_folder+'/labels', x) for x in os.listdir(path_to_search+newest_folder+'/labels') if x[-3:] == \"txt\"]\n",
    "labels.sort()\n",
    "cla=[\"complete\",\"incomplete\",\"blurry.complete\",\"blurry.incomplete\",\"hair\"]\n",
    "# Convert and save the labels to csv file\n",
    "dataframes = []\n",
    "for i in labels:\n",
    "  df = pd.read_csv(i, sep=\" \",header = None)\n",
    "  df.rename(columns= {1:'boundingbox_x'},inplace = True)\n",
    "  df.rename(columns= {0:'class'},inplace = True)\n",
    "  df.rename(columns= {2:'boundingbox_y'},inplace = True)\n",
    "  df.rename(columns= {3:'boundingbox_width'},inplace = True)\n",
    "  df.rename(columns= {4:'boundingbox_height'},inplace = True)\n",
    "  df.rename(columns= {5:'confidence'},inplace = True)\n",
    "  df['File Name'] = i.split('\\\\')[-1].split('.')[0]\n",
    "  df['class']=df['class'].apply(lambda x: cla[x])\n",
    "  dataframes.append(df)\n",
    "\n",
    "final_dataframe = pd.concat(dataframes, ignore_index=True)\n",
    "#final_dataframe.to_excel('/content/drive/MyDrive/Ntu_stomata/result/res_noblurry.xlsx')\n",
    "final_dataframe.to_csv('./runs/detect/'+path.split('/')[-1]+'_wblurry.csv', encoding = 'utf-8',index = False)\n",
    "\n",
    "#results = model.predict( './Images',save=True,save_crop = False,save_txt = True,save_conf = True)  # predict on an image"
   ]
  }
 ],
 "metadata": {
  "kernelspec": {
   "display_name": "Python 3",
   "language": "python",
   "name": "python3"
  },
  "language_info": {
   "codemirror_mode": {
    "name": "ipython",
    "version": 3
   },
   "file_extension": ".py",
   "mimetype": "text/x-python",
   "name": "python",
   "nbconvert_exporter": "python",
   "pygments_lexer": "ipython3",
   "version": "3.10.0"
  }
 },
 "nbformat": 4,
 "nbformat_minor": 2
}
