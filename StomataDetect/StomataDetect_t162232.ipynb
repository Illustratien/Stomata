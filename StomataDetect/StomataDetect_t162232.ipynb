{
 "cells": [
  {
   "cell_type": "markdown",
   "metadata": {
    "pycharm": {
     "name": "#%% md\n"
    }
   },
   "source": [
    "##### If  you haven't  installed packages , execute following script cell"
   ]
  },
  {
   "cell_type": "code",
   "execution_count": null,
   "metadata": {
    "pycharm": {
     "name": "#%%\n"
    }
   },
   "outputs": [],
   "source": [
    "# Install the pytorch and ultralytics  only need to run once\n",
    "%pip install -U ultralytics\n",
    "%pip install torch torchvision torchaudio\n",
    "%pip install pandas"
   ]
  },
  {
   "cell_type": "code",
   "execution_count": 1,
   "metadata": {
    "pycharm": {
     "name": "#%%\n"
    }
   },
   "outputs": [
    {
     "name": "stdout",
     "output_type": "stream",
     "text": [
      "Ultralytics YOLOv8.1.5 🚀 Python-3.10.0 torch-2.1.2 CUDA:0 (Quadro RTX 4000, 8192MiB)\n",
      "Setup complete ✅ (20 CPUs, 63.7 GB RAM, 293.3/475.7 GB disk)\n"
     ]
    }
   ],
   "source": [
    "\n",
    "import ultralytics \n",
    "#import cv2\n",
    "import pandas as pd\n",
    "from distutils.dir_util import copy_tree\n",
    "# Check  GPU  and pytorch works\n",
    "ultralytics.checks()\n",
    "\n",
    "# It should list GPU device ex:  \n",
    "# Ultralytics YOLOv8.1.0 🚀 Python-3.10.13 torch-2.1.0+cu121 CUDA:0 (NVIDIA GeForce RTX 4060 Ti, 7937MiB)\n",
    "# Setup complete ✅ (16 CPUs, 31.1 GB RAM, 358.8/915.3 GB disk)"
   ]
  },
  {
   "cell_type": "code",
   "execution_count": 4,
   "metadata": {
    "pycharm": {
     "name": "#%%\n"
    }
   },
   "outputs": [
    {
     "name": "stdout",
     "output_type": "stream",
     "text": [
      "Giessen\n",
      "\n",
      "image 1/18 C:\\Users\\marse\\seadrive_root\\Tien-Che\\Shared with me\\Constantin\\Stomata_shared\\Dortmund\\Sharing\\Giessen\\Giessen_WW_R1_P5101_G221_P2_3.jpg: 480x640 1 complete, 52 blurry.completes, 1 blurry.incomplete, 17 hairs, 76.2ms\n",
      "image 2/18 C:\\Users\\marse\\seadrive_root\\Tien-Che\\Shared with me\\Constantin\\Stomata_shared\\Dortmund\\Sharing\\Giessen\\Giessen_WW_R1_P5101_G221_P2_7.jpg: 480x640 17 completes, 44 blurry.completes, 5 hairs, 46.9ms\n",
      "image 3/18 C:\\Users\\marse\\seadrive_root\\Tien-Che\\Shared with me\\Constantin\\Stomata_shared\\Dortmund\\Sharing\\Giessen\\Giessen_WW_R1_P5102_G49_P2_4.jpg: 480x640 8 completes, 36 blurry.completes, 57.1ms\n",
      "image 4/18 C:\\Users\\marse\\seadrive_root\\Tien-Che\\Shared with me\\Constantin\\Stomata_shared\\Dortmund\\Sharing\\Giessen\\Giessen_WW_R1_P5102_G49_P2_8.jpg: 480x640 33 completes, 37 blurry.completes, 21 hairs, 286.3ms\n",
      "image 5/18 C:\\Users\\marse\\seadrive_root\\Tien-Che\\Shared with me\\Constantin\\Stomata_shared\\Dortmund\\Sharing\\Giessen\\Giessen_WW_R1_P5103_G61_P4_1.jpg: 480x640 7 completes, 44 blurry.completes, 6 hairs, 15.6ms\n",
      "image 6/18 C:\\Users\\marse\\seadrive_root\\Tien-Che\\Shared with me\\Constantin\\Stomata_shared\\Dortmund\\Sharing\\Giessen\\Giessen_WW_R1_P5103_G61_P4_5.jpg: 480x640 30 completes, 17 blurry.completes, 24 hairs, 0.0ms\n",
      "image 7/18 C:\\Users\\marse\\seadrive_root\\Tien-Che\\Shared with me\\Constantin\\Stomata_shared\\Dortmund\\Sharing\\Giessen\\Giessen_WW_R1_P5104_G26_P1_2.jpg: 480x640 12 completes, 32 blurry.completes, 7 hairs, 0.0ms\n",
      "image 8/18 C:\\Users\\marse\\seadrive_root\\Tien-Che\\Shared with me\\Constantin\\Stomata_shared\\Dortmund\\Sharing\\Giessen\\Giessen_WW_R1_P5104_G26_P1_8.jpg: 480x640 26 completes, 32 blurry.completes, 32 hairs, 15.7ms\n",
      "image 9/18 C:\\Users\\marse\\seadrive_root\\Tien-Che\\Shared with me\\Constantin\\Stomata_shared\\Dortmund\\Sharing\\Giessen\\Giessen_WW_R1_P5105_G80_P2_1.jpg: 480x640 11 completes, 27 blurry.completes, 3 hairs, 34.1ms\n",
      "image 10/18 C:\\Users\\marse\\seadrive_root\\Tien-Che\\Shared with me\\Constantin\\Stomata_shared\\Dortmund\\Sharing\\Giessen\\Giessen_WW_R1_P5105_G80_P2_5.jpg: 480x640 38 completes, 19 blurry.completes, 33 hairs, 124.7ms\n",
      "image 11/18 C:\\Users\\marse\\seadrive_root\\Tien-Che\\Shared with me\\Constantin\\Stomata_shared\\Dortmund\\Sharing\\Giessen\\Giessen_WW_R1_P5106_G213_P1_1.jpg: 480x640 16 completes, 22 blurry.completes, 9 hairs, 158.1ms\n",
      "image 12/18 C:\\Users\\marse\\seadrive_root\\Tien-Che\\Shared with me\\Constantin\\Stomata_shared\\Dortmund\\Sharing\\Giessen\\Giessen_WW_R1_P5106_G213_P1_6.jpg: 480x640 21 completes, 29 blurry.completes, 1 blurry.incomplete, 20 hairs, 14.3ms\n",
      "image 13/18 C:\\Users\\marse\\seadrive_root\\Tien-Che\\Shared with me\\Constantin\\Stomata_shared\\Dortmund\\Sharing\\Giessen\\Giessen_WW_R1_P5107_G105_P5_3.jpg: 480x640 5 completes, 38 blurry.completes, 10 hairs, 21.0ms\n",
      "image 14/18 C:\\Users\\marse\\seadrive_root\\Tien-Che\\Shared with me\\Constantin\\Stomata_shared\\Dortmund\\Sharing\\Giessen\\Giessen_WW_R1_P5107_G105_P5_8.jpg: 480x640 46 completes, 20 blurry.completes, 17 hairs, 33.9ms\n",
      "image 15/18 C:\\Users\\marse\\seadrive_root\\Tien-Che\\Shared with me\\Constantin\\Stomata_shared\\Dortmund\\Sharing\\Giessen\\Giessen_WW_R1_P5108_G166_P3_1.jpg: 480x640 8 completes, 31 blurry.completes, 2 blurry.incompletes, 2 hairs, 22.0ms\n",
      "image 16/18 C:\\Users\\marse\\seadrive_root\\Tien-Che\\Shared with me\\Constantin\\Stomata_shared\\Dortmund\\Sharing\\Giessen\\Giessen_WW_R1_P5108_G166_P3_5.jpg: 480x640 15 completes, 41 blurry.completes, 59 hairs, 105.5ms\n",
      "image 17/18 C:\\Users\\marse\\seadrive_root\\Tien-Che\\Shared with me\\Constantin\\Stomata_shared\\Dortmund\\Sharing\\Giessen\\Giessen_WW_R1_P5109_G88_P5_2.jpg: 480x640 11 completes, 33 blurry.completes, 7 hairs, 37.9ms\n",
      "image 18/18 C:\\Users\\marse\\seadrive_root\\Tien-Che\\Shared with me\\Constantin\\Stomata_shared\\Dortmund\\Sharing\\Giessen\\Giessen_WW_R1_P5109_G88_P5_8.jpg: 480x640 3 completes, 60 blurry.completes, 24 hairs, 24.8ms\n",
      "Speed: 4.5ms preprocess, 59.7ms inference, 2.7ms postprocess per image at shape (1, 3, 480, 640)\n",
      "Results saved to \u001b[1mruns\\detect\\predict4\u001b[0m\n",
      "18 labels saved to runs\\detect\\predict4\\labels\n"
     ]
    }
   ],
   "source": [
    "from ultralytics import YOLO\n",
    "import pandas as pd\n",
    "import os\n",
    "from tkinter.filedialog import askdirectory\n",
    "\n",
    "# Put pretrain model weights in this file\n",
    "model = YOLO('./T16+T22+T32.pt')\n",
    "# Put data in Images folder\n",
    "\n",
    "path = askdirectory(title='Select Folder')\n",
    "print(path.split('/')[-1])\n",
    "results = model.predict( path,save=True,save_crop = False,save_txt = True,save_conf = True)  # predict on an image\n",
    "# You can change the folder name of predcit ex : predict1 , predict2 ....\n",
    "# Type your runs folder :\n",
    "def get_newest_folder(path):\n",
    "  # Get a list of all directories in the specified path\n",
    "  dirs = [d for d in os.listdir(path) if os.path.isdir(os.path.join(path, d))]\n",
    "  # Sort the directories based on creation time\n",
    "  dirs.sort(key=lambda d: os.path.getctime(os.path.join(path, d)), reverse=True)\n",
    "  # Return the newest folder\n",
    "  if dirs:\n",
    "    return dirs[0]\n",
    "  else:\n",
    "    return None\n",
    "\n",
    "# Example usage\n",
    "path_to_search = \"./runs/detect/\"\n",
    "newest_folder = get_newest_folder(path_to_search)\n",
    "\n",
    "labels = [os.path.join(path_to_search+newest_folder+'/labels', x) for x in os.listdir(path_to_search+newest_folder+'/labels') if x[-3:] == \"txt\"]\n",
    "labels.sort()\n",
    "cla=[\"complete\",\"incomplete\",\"blurry.complete\",\"blurry.incomplete\",\"hair\"]\n",
    "# Convert and save the labels to csv file\n",
    "dataframes = []\n",
    "for i in labels:\n",
    "  df = pd.read_csv(i, sep=\" \",header = None)\n",
    "  df.rename(columns= {1:'boundingbox_x'},inplace = True)\n",
    "  df.rename(columns= {0:'class'},inplace = True)\n",
    "  df.rename(columns= {2:'boundingbox_y'},inplace = True)\n",
    "  df.rename(columns= {3:'boundingbox_width'},inplace = True)\n",
    "  df.rename(columns= {4:'boundingbox_height'},inplace = True)\n",
    "  df.rename(columns= {5:'confidence'},inplace = True)\n",
    "  df['File Name'] = i.split('\\\\')[-1].split('.')[0]\n",
    "  df['class']=df['class'].apply(lambda x: cla[x])\n",
    "  dataframes.append(df)\n",
    "\n",
    "final_dataframe = pd.concat(dataframes, ignore_index=True)\n",
    "#final_dataframe.to_excel('/content/drive/MyDrive/Ntu_stomata/result/res_noblurry.xlsx')\n",
    "final_dataframe.to_csv('./runs/detect/'+path.split('/')[-1]+'_wblurry.csv', encoding = 'utf-8',index = False)\n",
    "\n",
    "#results = model.predict( './Images',save=True,save_crop = False,save_txt = True,save_conf = True)  # predict on an image"
   ]
  }
 ],
 "metadata": {
  "kernelspec": {
   "display_name": "Python 3",
   "language": "python",
   "name": "python3"
  },
  "language_info": {
   "codemirror_mode": {
    "name": "ipython",
    "version": 3
   },
   "file_extension": ".py",
   "mimetype": "text/x-python",
   "name": "python",
   "nbconvert_exporter": "python",
   "pygments_lexer": "ipython3",
   "version": "3.10.0"
  }
 },
 "nbformat": 4,
 "nbformat_minor": 2
}
